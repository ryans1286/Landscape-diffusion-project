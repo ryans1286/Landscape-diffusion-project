{
 "cells": [
  {
   "cell_type": "markdown",
   "metadata": {},
   "source": [
    "# Landscape response to time-dependent soil diffusion\n",
    "Ryan M. Strickland <br>\n",
    "8 October 2020"
   ]
  },
  {
   "cell_type": "markdown",
   "metadata": {},
   "source": [
    "## Introduction\n",
    "The purpose of this Landlab model is to explore the effects of changing the rate of soil diffusion during landscape development. Currently, there are two working versions of the model. The first version changes the diffusion constant (k) uniformly across the model space from an initial value to a final value for a user-specified period of time (later referred to as the time-dependent diffusion component). The second version incorporates Celllab-CTS (later referred to as the cellular automaton or CA component) to stochastically apply a new diffusion constant for nodes at a user-specified rate.\n",
    "\n",
    "Currently, the cellular automaton model is very basic and only incorporates two states: 0 or 1. The 0-state corresponds to the initial value for the diffusion constant (k_inital). The 1-state corresponds to the final value of the diffusion rate constant. A random selection of nodes in the model space are initially given the 1-state. The remaining nodes begin at the 0-state. If 0-state node borders a 1-state node, it has a probability of changing to the 1-state, as determined by the transition rate. Once a node changes to the 1-state, it never changes back. \n",
    "\n",
    "The cellular automaton portion of this model has questionable value. I am pleased that I successfully incorporated it into the model, but I do not think it appropriately models any natural phenomena. The timescales of geologic processes are likely one or two orders of magnitude greater than local changes in diffusion.\n",
    "\n",
    "On the other hand, I believe the time-dependent diffusion component to more realistically model changes in diffusion across a landscape. The rate of diffusion uniformly changes in equal increments across the landscape, beginning at a certain time and changing for a pre-determined period of time. I will most likely use this component of the model for further exploration. "
   ]
  },
  {
   "cell_type": "code",
   "execution_count": null,
   "metadata": {},
   "outputs": [],
   "source": [
    "from landlab.components import FlowAccumulator, FastscapeEroder, PerronNLDiffuse\n",
    "from landlab.plot import imshow_grid\n",
    "from landlab import RasterModelGrid #, load_params\n",
    "from landlab.ca.celllab_cts import Transition, CAPlotter\n",
    "from landlab.ca.raster_cts import RasterCTS\n",
    "from matplotlib.pyplot import figure #, show, plot, xlabel, ylabel, title\n",
    "import matplotlib\n",
    "import numpy as np\n",
    "#import matplotlib.pyplot as plt\n",
    "#from landlab.io.netcdf import write_netcdf"
   ]
  },
  {
   "cell_type": "markdown",
   "metadata": {},
   "source": [
    "Below is the transition function for the cellular automaton component. Feel free to change the rate (currently set at 0.5 transitions per second) to any value you wish. The larger the transition rate, the more rapidly all nodes will assume the final diffusion rate constant. The more nodes in the model space, the greater the diffusion rate constant should be. "
   ]
  },
  {
   "cell_type": "code",
   "execution_count": null,
   "metadata": {},
   "outputs": [],
   "source": [
    "#Define the cellular automaton transition function\n",
    "def transitions():\n",
    "    xn_list = []\n",
    "    \n",
    "    #Transition((initial-state, initial-state, orientation), \n",
    "    #               (final-state, final-state, orientation), rate, 'name')\n",
    "    #Note the rate is transitions per second. \n",
    "    xn_list.append(Transition((0, 1, 0), (1, 1, 0), .5, 'left-right transition'))\n",
    "    xn_list.append(Transition((1, 0, 0), (1, 1, 0), .5, 'left-right transition'))\n",
    "    #These transitions are the most basic and symmetrical.\n",
    "    #Once a node is \"seeded\" with state \"1\", it will gradually change all the  \n",
    "    #bordering nodes to state \"1\"\n",
    "    \n",
    "    return xn_list"
   ]
  },
  {
   "cell_type": "markdown",
   "metadata": {},
   "source": [
    "All mandatory user input parameters are found in the cell below. This model is time-intensive for large grids. "
   ]
  },
  {
   "cell_type": "code",
   "execution_count": null,
   "metadata": {},
   "outputs": [],
   "source": [
    "'''INPUT PARAMETERS'''\n",
    "#Model geometry parameters\n",
    "cell_dim = 5. #cell width/length in km\n",
    "grid_width = 100 #number of nodes width\n",
    "grid_height = 100 #number of nodes height\n",
    "\n",
    "#Diffusion and stream power input parameters\n",
    "uplift_rate = 0.001 #Units of m/yr\n",
    "k_initial = 0.0005 #Constant 0 < k < 0.01 generally, grid units are km\n",
    "k_final = 0.005\n",
    "t_trans = 1000 #Number of years for transition from k_initial to k_final\n",
    "trans_start_t = 10000 #Year the k transition begins\n",
    "k_streampower = 0.3\n",
    "m_streampower = 0.5\n",
    "total_t = 20000 #Total time \n",
    "dt =  100 #Timestep size\n",
    "n_steps = total_t // dt #The number of steps in the model run\n",
    "\n",
    "#Cellular automaton parameters\n",
    "n_seed = 10 #Number of nodes initially assigned the 1-state\n",
    "plot_interval = 10. #needed if plotting cellular automaton transitions\n",
    "run_duration = 100. #The number of seconds the cellular automaton model should run per timestep dt\n",
    "#report_interval = plot_interval #needed if plotting node state transitions"
   ]
  },
  {
   "cell_type": "code",
   "execution_count": null,
   "metadata": {},
   "outputs": [],
   "source": [
    "#Create a csv file with the model parameters, if desired\n",
    "#probably turn this into a dictionary later on\n",
    "# parameter_names = ['cell_dim', 'grid_width', 'grid_height', 'uplift_rate', \n",
    "#                    'k_initial', 'k_final', 'k_streampower', 'm_streampower',\n",
    "#                    'total_t', 'dt', 'n_steps', 'plot_interval', 'run_duration']\n",
    "# parameter_values = [cell_dim, grid_width, grid_height, uplift_rate, \n",
    "#                    k_initial, k_final, k_streampower, m_streampower,\n",
    "#                    total_t, dt, n_steps, plot_interval, run_duration]\n",
    "\n",
    "# import pandas as pd\n",
    "# fname = #csv filepath and name \n",
    "# df = pd.DataFrame([parameter_names, parameter_values], columns = ['Parameter', 'Value'])\n",
    "# df.to_csv(fname, index = False)"
   ]
  },
  {
   "cell_type": "markdown",
   "metadata": {},
   "source": [
    "The following cell instantiates all the model space with the user-specified initial conditions."
   ]
  },
  {
   "cell_type": "code",
   "execution_count": null,
   "metadata": {},
   "outputs": [],
   "source": [
    "'''MODEL INSTANTIATION-DO NOT EDIT'''\n",
    "#Instantiate Landlab RasterModelGrid\n",
    "mg = RasterModelGrid((grid_width, grid_height), cell_dim) #Instantiate the model space\n",
    "\n",
    "#Create the topographic__elevation array, fill with zeros\n",
    "z = mg.add_zeros('node', 'topographic__elevation') #Base topographic elevation is zeros\n",
    "initial_roughness = np.random.rand(z.size) / 100000.\n",
    "z += initial_roughness\n",
    "\n",
    "#Create the diffusivity array, fill with zeros\n",
    "k = mg.zeros('node', dtype = float)\n",
    "k += [k_initial for _ in range(mg.number_of_nodes)]\n",
    "k_field = mg.add_field('node', 'diffusivity', k, noclobber = False)\n",
    "\n",
    "#Create the node state array for the cellular automaton component\n",
    "#Create the node-state dictionary\n",
    "ns_dict = {0 : 'k_i', 1 : 'k_f'}\n",
    "\n",
    "#Setup cellular automaton plot colors\n",
    "#This is only needed if you intend to plot the cellular automaton grids.\n",
    "k_i = 'skyblue'\n",
    "k_f = 'red'\n",
    "colorList = [k_i, k_f]\n",
    "my_cmap = matplotlib.colors.ListedColormap(colorList)\n",
    "\n",
    "xn_list = transitions() #Initiate the transitions\n",
    "node_state_grid = mg.zeros('node', dtype = int)\n",
    "node_state_field = mg.add_field('node', 'k_diff_transitions', node_state_grid)\n",
    "\n",
    "#Create initial conditions for cellular automaton component\n",
    "#This is not working as intended, but does the job\n",
    "for x in range(n_seed):\n",
    "    rand = np.random.randint(len(mg.core_nodes))\n",
    "    node_state_grid[rand] = 1\n",
    "\n",
    "#Needed for plotting cellular automaton transitions\n",
    "#current_real_time = time.time()\n",
    "#next_report = current_real_time + report_interval\n",
    "            \n",
    "#Establish boundary conditions\n",
    "mg.set_fixed_value_boundaries_at_grid_edges(True, True, True, True)"
   ]
  },
  {
   "cell_type": "markdown",
   "metadata": {},
   "source": [
    "Below I setup all the components."
   ]
  },
  {
   "cell_type": "code",
   "execution_count": null,
   "metadata": {},
   "outputs": [],
   "source": [
    "'''SETUP THE COMPONENTS'''\n",
    "#Setup the modules\n",
    "nonlinear_diffuser = PerronNLDiffuse(mg, nonlinear_diffusivity = k)\n",
    "flowRouter = FlowAccumulator(mg)\n",
    "streamPower = FastscapeEroder(mg, K_sp = k_streampower, m_sp = m_streampower)\n",
    "ca_diffusion_transition = RasterCTS(mg, ns_dict, xn_list, node_state_grid)"
   ]
  },
  {
   "cell_type": "markdown",
   "metadata": {},
   "source": [
    "## Run the Model: Time-dependent diffusion \n",
    "\n",
    "This cell exectutes the time-dependent diffusion model. Please be aware you must re-instantiate the model and parameters between model runs. "
   ]
  },
  {
   "cell_type": "code",
   "execution_count": null,
   "metadata": {},
   "outputs": [],
   "source": [
    "'''RUN THE MODEL---NO CELLULAR AUTOMATON COMPONENT'''\n",
    "#Establish a steady state landscape under the initial conditions\n",
    "for i in range(n_steps):\n",
    "    z[mg.core_nodes] += uplift_rate * dt #add uplift\n",
    "    nonlinear_diffuser.run_one_step(dt) #run diffusion one step\n",
    "    flowRouter.run_one_step() #run the flow router\n",
    "    streamPower.run_one_step(dt) #run stream power incision\n",
    "    \n",
    "    #This is the time-dependent diffusion component\n",
    "    #It increases k from k_initial to k_final in time t_trans\n",
    "    if i >= (trans_start_t // dt) and i < ((trans_start_t + t_trans) // dt):\n",
    "        k[mg.core_nodes] += (k_final - k_initial) / (t_trans / dt)\n",
    "    \n",
    "    if i % 50 == 0:\n",
    "        print(i * dt, \"years have elapsed\")\n",
    "\n",
    "print(total_t, \"years have elapsed. Model complete.\")\n",
    "\n",
    "figure()\n",
    "imshow_grid(mg, 'topographic__elevation')"
   ]
  },
  {
   "cell_type": "markdown",
   "metadata": {},
   "source": [
    "## Run the Model: Cellular automaton component\n",
    "\n",
    "This cell exectutes the cellular automaton model. Please be aware you must re-instantiate the model and parameters between model runs. "
   ]
  },
  {
   "cell_type": "code",
   "execution_count": null,
   "metadata": {},
   "outputs": [],
   "source": [
    "'''RUN THE MODEL---WITH CELLULAR AUTOMATON COMPONENT'''\n",
    "#Establish a steady state landscape under the initial conditions\n",
    "for i in range(n_steps // 2):\n",
    "    z[mg.core_nodes] += uplift_rate * dt #add uplift\n",
    "    nonlinear_diffuser.run_one_step(dt) #run diffusion one step\n",
    "    flowRouter.run_one_step() #run the flow router\n",
    "    streamPower.run_one_step(dt) #run stream power incision\n",
    "    \n",
    "    if i % 50 == 0:\n",
    "        print(i * dt, \"years have elapsed\")\n",
    "\n",
    "print(total_t, \"years have elapsed.\")\n",
    "print(\"CA component now active.\")\n",
    "\n",
    "figure()\n",
    "imshow_grid(mg, 'topographic__elevation')\n",
    "\n",
    "\n",
    "#Initiate the cellular automaton model\n",
    "for i in range(n_steps // 2):\n",
    "    z[mg.core_nodes] += uplift_rate * dt #add uplift\n",
    "    nonlinear_diffuser.run_one_step(dt) #run diffusion one step\n",
    "    flowRouter.run_one_step() #run the flow router\n",
    "    streamPower.run_one_step(dt) #run stream power incision\n",
    "    \n",
    "    current_time = 0. #run the cellular automaton for run_duration each timestep i\n",
    "    while current_time < run_duration:\n",
    "        ca_diffusion_transition.run(current_time + plot_interval, ca_diffusion_transition.node_state, plot_each_transition = False)\n",
    "        current_time += plot_interval\n",
    "    k[node_state_grid == 1] = k_final #Update the k field with the new value\n",
    "\n",
    "    \n",
    "    if i % 50 == 0:\n",
    "        print(i * dt, \"years have elapsed\")\n",
    "\n",
    "figure()\n",
    "imshow_grid(mg, 'topographic__elevation')\n",
    "#write_netcdf('run1_hi-lo-1.nc', mg, format = 'NETCDF3_64BIT', names = 'topographic__elevation')"
   ]
  },
  {
   "cell_type": "markdown",
   "metadata": {},
   "source": [
    "## Moving Forward \n",
    "\n"
   ]
  }
 ],
 "metadata": {
  "kernelspec": {
   "display_name": "Python 3",
   "language": "python",
   "name": "python3"
  },
  "language_info": {
   "codemirror_mode": {
    "name": "ipython",
    "version": 3
   },
   "file_extension": ".py",
   "mimetype": "text/x-python",
   "name": "python",
   "nbconvert_exporter": "python",
   "pygments_lexer": "ipython3",
   "version": "3.8.3"
  }
 },
 "nbformat": 4,
 "nbformat_minor": 4
}
